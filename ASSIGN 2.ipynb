{
 "cells": [
  {
   "cell_type": "markdown",
   "id": "f301b47c",
   "metadata": {},
   "source": [
    "# 1.\tWrite a Python program to convert kilometers to miles?"
   ]
  },
  {
   "cell_type": "code",
   "execution_count": 1,
   "id": "ed9f64e0",
   "metadata": {},
   "outputs": [
    {
     "name": "stdout",
     "output_type": "stream",
     "text": [
      "Enter value in kilometers: 5\n",
      "5.00 kilometers is equal to 3.11 miles\n"
     ]
    }
   ],
   "source": [
    "# Taking kilometers input from the user\n",
    "kilometers = float(input(\"Enter value in kilometers: \"))\n",
    "\n",
    "# conversion factor\n",
    "conv_fac = 0.621371\n",
    "\n",
    "# calculate miles\n",
    "miles = kilometers * conv_fac\n",
    "print('%0.2f kilometers is equal to %0.2f miles' %(kilometers,miles))"
   ]
  },
  {
   "cell_type": "markdown",
   "id": "f57d26ae",
   "metadata": {},
   "source": [
    "# 2.\tWrite a Python program to convert Celsius to Fahrenheit?"
   ]
  },
  {
   "cell_type": "code",
   "execution_count": 2,
   "id": "f4a76d93",
   "metadata": {},
   "outputs": [
    {
     "name": "stdout",
     "output_type": "stream",
     "text": [
      "Temperature value in degree Celsius: 34\n",
      "The 34.00 degree Celsius is equal to: 93.20 Fahrenheit\n",
      "----OR----\n",
      "Temperature value in degree Celsius: 65\n",
      "The 65.00 degree Celsius is equal to: 149.00 Fahrenheit\n"
     ]
    }
   ],
   "source": [
    "celsius_1 = float(input(\"Temperature value in degree Celsius: \" ))  \n",
    "  \n",
    "# For Converting the temperature to degree Fahrenheit by using the above  \n",
    "# given formula  \n",
    "Fahrenheit_1 = (celsius_1 * 1.8) + 32  \n",
    "    \n",
    "# print the result  \n",
    "print('The %.2f degree Celsius is equal to: %.2f Fahrenheit'  \n",
    "      %(celsius_1, Fahrenheit_1))  \n",
    "  \n",
    "print(\"----OR----\")  \n",
    "celsius_2 = float (input(\"Temperature value in degree Celsius: \" ))  \n",
    "Fahrenheit_2 = (celsius_2 * 9/5) + 32  \n",
    "    \n",
    "# print the result  \n",
    "print ('The %.2f degree Celsius is equal to: %.2f Fahrenheit'  \n",
    "      %(celsius_2, Fahrenheit_2))  "
   ]
  },
  {
   "cell_type": "markdown",
   "id": "21d6dc78",
   "metadata": {},
   "source": [
    "# 3.\tWrite a Python program to display calendar?"
   ]
  },
  {
   "cell_type": "code",
   "execution_count": 3,
   "id": "ef47f259",
   "metadata": {},
   "outputs": [
    {
     "name": "stdout",
     "output_type": "stream",
     "text": [
      "   November 2014\n",
      "Mo Tu We Th Fr Sa Su\n",
      "                1  2\n",
      " 3  4  5  6  7  8  9\n",
      "10 11 12 13 14 15 16\n",
      "17 18 19 20 21 22 23\n",
      "24 25 26 27 28 29 30\n",
      "\n"
     ]
    }
   ],
   "source": [
    "# Program to display calendar of the given month and year\n",
    "\n",
    "# importing calendar module\n",
    "import calendar\n",
    "\n",
    "yy = 2014  # year\n",
    "mm = 11    # month\n",
    "\n",
    "# To take month and year input from the user\n",
    "# yy = int(input(\"Enter year: \"))\n",
    "# mm = int(input(\"Enter month: \"))\n",
    "\n",
    "# display the calendar\n",
    "print(calendar.month(yy, mm))\n"
   ]
  },
  {
   "cell_type": "markdown",
   "id": "42665707",
   "metadata": {},
   "source": [
    "# 4.\tWrite a Python program to solve quadratic equation?"
   ]
  },
  {
   "cell_type": "code",
   "execution_count": 4,
   "id": "a663ce68",
   "metadata": {},
   "outputs": [
    {
     "name": "stdout",
     "output_type": "stream",
     "text": [
      "Enter a: 4\n",
      "Enter b: 3\n",
      "Enter c: 5\n",
      "The solution are (-0.375-1.0532687216470449j) and (-0.375+1.0532687216470449j)\n"
     ]
    }
   ],
   "source": [
    "# import complex math module  \n",
    "import cmath  \n",
    "a = float(input('Enter a: '))  \n",
    "b = float(input('Enter b: '))  \n",
    "c = float(input('Enter c: '))  \n",
    "  \n",
    "# calculate the discriminant  \n",
    "d = (b**2) - (4*a*c)  \n",
    "  \n",
    "# find two solutions  \n",
    "sol1 = (-b-cmath.sqrt(d))/(2*a)  \n",
    "sol2 = (-b+cmath.sqrt(d))/(2*a)  \n",
    "print('The solution are {0} and {1}'.format(sol1,sol2))   "
   ]
  },
  {
   "cell_type": "markdown",
   "id": "50fdd1be",
   "metadata": {},
   "source": [
    "# 5.\tWrite a Python program to swap two variables without temp variable?"
   ]
  },
  {
   "cell_type": "code",
   "execution_count": 5,
   "id": "5daa9074",
   "metadata": {},
   "outputs": [
    {
     "name": "stdout",
     "output_type": "stream",
     "text": [
      "Before swapping: \n",
      "Value of x :  5  and y :  7\n",
      "After swapping: \n",
      "Value of x :  7  and y :  5\n"
     ]
    }
   ],
   "source": [
    "\n",
    "# Python code to swap two numbers\n",
    "# without using another variable\n",
    " \n",
    " \n",
    "x = 5\n",
    "y = 7\n",
    " \n",
    "print (\"Before swapping: \")\n",
    "print(\"Value of x : \", x, \" and y : \", y)\n",
    " \n",
    "# code to swap 'x' and 'y'\n",
    "x, y = y, x\n",
    " \n",
    "print (\"After swapping: \")\n",
    "print(\"Value of x : \", x, \" and y : \", y)"
   ]
  },
  {
   "cell_type": "code",
   "execution_count": null,
   "id": "ab357e9c",
   "metadata": {},
   "outputs": [],
   "source": []
  }
 ],
 "metadata": {
  "kernelspec": {
   "display_name": "Python 3",
   "language": "python",
   "name": "python3"
  },
  "language_info": {
   "codemirror_mode": {
    "name": "ipython",
    "version": 3
   },
   "file_extension": ".py",
   "mimetype": "text/x-python",
   "name": "python",
   "nbconvert_exporter": "python",
   "pygments_lexer": "ipython3",
   "version": "3.8.8"
  }
 },
 "nbformat": 4,
 "nbformat_minor": 5
}
